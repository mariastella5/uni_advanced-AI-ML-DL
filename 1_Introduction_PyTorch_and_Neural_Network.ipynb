{
  "nbformat": 4,
  "nbformat_minor": 0,
  "metadata": {
    "colab": {
      "provenance": []
    },
    "kernelspec": {
      "name": "python3",
      "display_name": "Python 3"
    },
    "language_info": {
      "name": "python"
    }
  },
  "cells": [
    {
      "cell_type": "markdown",
      "source": [
        "# LAB 1: Introduction to Pytorch and Neural Networks"
      ],
      "metadata": {
        "id": "SPWxKX9PX-Km"
      }
    },
    {
      "cell_type": "markdown",
      "source": [
        "### Giorgio Lazzarinetti - My Contacts\n",
        "For any questions or doubts you can find my contacts here:\n",
        "\n",
        "<p align=\"center\">\n",
        "\n",
        "giorgiolazzarinetti@gmail.com\n",
        "g.lazzarinetti@campus.unimib.it \n",
        "\n",
        "</p>"
      ],
      "metadata": {
        "id": "IrQ2ClJjYNeQ"
      }
    },
    {
      "cell_type": "markdown",
      "source": [
        "### Notebook Outline\n",
        "\n",
        "* PyTorch - tensors and basic operations;\n",
        "* Neural Networks in PyTorch;"
      ],
      "metadata": {
        "id": "Iy9_56KWYQpc"
      }
    },
    {
      "cell_type": "markdown",
      "source": [
        "## PyTorch\n",
        "\n",
        "[PyTorch](https://pytorch.org/) is amongst the most widely used libraries for performing machine learning research and numerical computations. PyTorch is similar to NumPy, with the additional benefit that PyTorch allows you to perform your computations on CPUs and GPUs without any change to your code. PyTorch also makes it easy to distribute your computation across multiple devices or machines. One of the most important features of PyTorch is automatic differentiation. It allows computing the gradients of your functions analytically in an efficient manner which is crucial for training machine learning models using gradient descent method. \n",
        "\n",
        "So, we will now see these PyTorch useful classes:\n",
        "\n",
        "  -  ``torch.Tensor`` - A *multi-dimensional array* with support for autograd\n",
        "     operations like ``backward()``. Also *holds the gradient* w.r.t. the\n",
        "     tensor.\n",
        "  -  ``nn.Module`` - Neural network module. *Convenient way of\n",
        "     encapsulating parameters*, with helpers for moving them to GPU,\n",
        "     exporting, loading, etc.\n",
        "  -  ``nn.Parameter`` - A kind of Tensor, that is *automatically\n",
        "     registered as a parameter when assigned as an attribute to a*\n",
        "     ``Module``.\n",
        "  -  ``autograd.Function`` - Implements *forward and backward definitions\n",
        "     of an autograd operation*. Every ``Tensor`` operation creates at\n",
        "     least a single ``Function`` node that connects to functions that\n",
        "     created a ``Tensor`` and *encodes its history*."
      ],
      "metadata": {
        "id": "pCtq8Q_0YoOZ"
      }
    },
    {
      "cell_type": "code",
      "source": [
        "a= 3\n",
        "a"
      ],
      "metadata": {
        "colab": {
          "base_uri": "https://localhost:8080/"
        },
        "id": "evD2MdS-m9Ho",
        "outputId": "532c4445-f060-454f-9d1e-e05dbc451741"
      },
      "execution_count": null,
      "outputs": [
        {
          "output_type": "execute_result",
          "data": {
            "text/plain": [
              "3"
            ]
          },
          "metadata": {},
          "execution_count": 1
        }
      ]
    },
    {
      "cell_type": "markdown",
      "source": [
        "### Packages"
      ],
      "metadata": {
        "id": "MfmMIWvGY4-J"
      }
    },
    {
      "cell_type": "code",
      "execution_count": null,
      "metadata": {
        "id": "TNQZol1sXubq"
      },
      "outputs": [],
      "source": [
        "%matplotlib inline\n",
        "\n",
        "import random\n",
        "import numpy as np\n",
        "from matplotlib import pyplot as plt\n",
        "from tqdm import tqdm\n",
        "\n",
        "\n",
        "import torch\n",
        "import torch.nn as nn\n",
        "from torchsummary import summary\n",
        "from torch.utils.data import DataLoader, TensorDataset"
      ]
    },
    {
      "cell_type": "code",
      "source": [
        "# set the seed for reproducibility: built-in python, numpy, and pytorch\n",
        "seed = 172\n",
        "random.seed(seed)\n",
        "np.random.seed(seed)\n",
        "torch.manual_seed(seed) # works for all devices (CPU and GPU)"
      ],
      "metadata": {
        "colab": {
          "base_uri": "https://localhost:8080/"
        },
        "id": "sxwkxmfdY9Jg",
        "outputId": "84cb02e3-4d7e-451e-b6c3-2b8248f8fd95"
      },
      "execution_count": null,
      "outputs": [
        {
          "output_type": "execute_result",
          "data": {
            "text/plain": [
              "<torch._C.Generator at 0x7f7ce840b6b0>"
            ]
          },
          "metadata": {},
          "execution_count": 3
        }
      ]
    },
    {
      "cell_type": "code",
      "source": [
        "device = torch.device('cpu')\n",
        "#device = torch.device('cuda') # Uncomment this to run on GPU"
      ],
      "metadata": {
        "id": "NMhMHX20o5Xi"
      },
      "execution_count": null,
      "outputs": []
    },
    {
      "cell_type": "markdown",
      "source": [
        "### What is a tensor?\n",
        "\n",
        "Tensors are simply multidimensional arrays\n",
        "\n",
        "* A scalar (a number) is a $0-dim$ array;\n",
        "* a vector is a $1-dim$ array;\n",
        "* a matrix is a $2-dim$ array;\n",
        "* ...\n",
        "\n",
        "<center>  <img src=\"https://drive.google.com/uc?export=view&id=1BvK6ZGM7x_8x2LRfoVXvpaIE_mTycWqe\" width=\"650\" height=\"400\"> </center> \n",
        "\n",
        "\n",
        "\n",
        "Like NumPy, PyTorch provides its own multidimensional array class, called `Tensor`. `Tensors` are essentially the equivalent of NumPy `ndarrays`. We can say that:\n",
        "\n",
        "* `Tensor` draws a lot of methods from NumPy\n",
        "* `Tensor` has CUDA support"
      ],
      "metadata": {
        "id": "zJ4qPQ7nZWtO"
      }
    },
    {
      "cell_type": "code",
      "source": [
        "# torch.tensor vs np.array\n",
        "x = torch.tensor([[1.1,5,4],[3,2,1]])\n",
        "\n",
        "y = np.array([[1.1,5,4],[3,2,1]])\n",
        "\n",
        "x.dtype, y.dtype"
      ],
      "metadata": {
        "colab": {
          "base_uri": "https://localhost:8080/"
        },
        "id": "Hhl1VM3_ZBYL",
        "outputId": "6330a82b-bab4-4943-b7d3-6993de967e1d"
      },
      "execution_count": null,
      "outputs": [
        {
          "output_type": "execute_result",
          "data": {
            "text/plain": [
              "(torch.float32, dtype('float64'))"
            ]
          },
          "metadata": {},
          "execution_count": 5
        }
      ]
    },
    {
      "cell_type": "markdown",
      "source": [
        "`torch` already thinks with Machine Learning in mind as the Tensor is implicitly converted to dtype float32, while NumPy makes no such assumption. Since in deep learning memory is always a bottleneck. Especially when you are dealing with large volume of data and using a GPU with limited memory. I would recommend using `tf.float32` for a better speed with the price of a possible negligible loss of precision.\n",
        "\n",
        "For more info on Tensor data types, check [this page](https://pytorch.org/docs/stable/tensors.html).\n",
        "\n",
        "Note that if we put integers, torch.tensor infers the type\n",
        "\n",
        "As in NumPy, we can call the `.shape` attribute to get the shape of the structures. Moreover, Tensors have also the `.size()` method which is analogous to `.shape`."
      ],
      "metadata": {
        "id": "1k3O7Sy8ZrcX"
      }
    },
    {
      "cell_type": "code",
      "source": [
        "#let's go step by step\n",
        "s = torch.tensor(1)\n",
        "v = torch.tensor([1,2,3])\n",
        "m = torch.tensor([[1,2], [3,4]])\n",
        "t = torch.tensor([[[1,2,3], [4,5,6]], [[7,8,9], [10,11,12]]])\n",
        "\n",
        "print(s)\n",
        "print(v)\n",
        "print(m)\n",
        "print(t)"
      ],
      "metadata": {
        "colab": {
          "base_uri": "https://localhost:8080/"
        },
        "id": "gxh2KfFYZl0V",
        "outputId": "63fa530c-8993-4673-e2b1-efa8b4dada69"
      },
      "execution_count": null,
      "outputs": [
        {
          "output_type": "stream",
          "name": "stdout",
          "text": [
            "tensor(1)\n",
            "tensor([1, 2, 3])\n",
            "tensor([[1, 2],\n",
            "        [3, 4]])\n",
            "tensor([[[ 1,  2,  3],\n",
            "         [ 4,  5,  6]],\n",
            "\n",
            "        [[ 7,  8,  9],\n",
            "         [10, 11, 12]]])\n"
          ]
        }
      ]
    },
    {
      "cell_type": "code",
      "source": [
        "s.shape, v.shape, m.size(), t.size() \n",
        "#equivalent to s.shape, v.shape, m.shape, t.shape"
      ],
      "metadata": {
        "colab": {
          "base_uri": "https://localhost:8080/"
        },
        "id": "UUd6tYasaF0m",
        "outputId": "a56de47f-2859-4843-8158-ac8c3529a57e"
      },
      "execution_count": null,
      "outputs": [
        {
          "output_type": "execute_result",
          "data": {
            "text/plain": [
              "(torch.Size([]), torch.Size([3]), torch.Size([2, 2]), torch.Size([2, 2, 3]))"
            ]
          },
          "metadata": {},
          "execution_count": 7
        }
      ]
    },
    {
      "cell_type": "code",
      "source": [
        "# generate random tensor\n",
        "d = torch.rand([3, 3, 4])  \n",
        "d"
      ],
      "metadata": {
        "colab": {
          "base_uri": "https://localhost:8080/"
        },
        "id": "ibu9KNU6atIn",
        "outputId": "7449b4ca-8aa3-4711-f56b-07bcc7bec573"
      },
      "execution_count": null,
      "outputs": [
        {
          "output_type": "execute_result",
          "data": {
            "text/plain": [
              "tensor([[[0.2469, 0.2080, 0.8997, 0.9753],\n",
              "         [0.8461, 0.7945, 0.9302, 0.0049],\n",
              "         [0.4042, 0.1300, 0.2102, 0.9829]],\n",
              "\n",
              "        [[0.0334, 0.4363, 0.3250, 0.3079],\n",
              "         [0.2295, 0.1500, 0.6592, 0.3632],\n",
              "         [0.8722, 0.0489, 0.3148, 0.4832]],\n",
              "\n",
              "        [[0.0953, 0.2106, 0.8527, 0.2870],\n",
              "         [0.6727, 0.0772, 0.1950, 0.7856],\n",
              "         [0.5628, 0.3543, 0.9807, 0.0153]]])"
            ]
          },
          "metadata": {},
          "execution_count": 8
        }
      ]
    },
    {
      "cell_type": "code",
      "source": [
        "#slice of a tensor\n",
        "t3 = torch.tensor([[[0,1,2],[3,4,5]],    [[6,7,8],[9,10,11]],    [[13,14,15],[16,17,18]],     [[19,20,21],[22,23,24]]])\n",
        "print(t3.size())\n",
        "\n",
        "# Select some slices\n",
        "# Ex: from axis-0 select the first 2 out of 4 elements, from axis-1 the last element, from axis-2 the first two.\n",
        "t3[0:2, 1:2,  0:2]"
      ],
      "metadata": {
        "colab": {
          "base_uri": "https://localhost:8080/"
        },
        "id": "2YM7X6nsa84a",
        "outputId": "06e3046a-4ecd-4a43-8497-79077fe73ff0"
      },
      "execution_count": null,
      "outputs": [
        {
          "output_type": "stream",
          "name": "stdout",
          "text": [
            "torch.Size([4, 2, 3])\n"
          ]
        },
        {
          "output_type": "execute_result",
          "data": {
            "text/plain": [
              "tensor([[[ 3,  4]],\n",
              "\n",
              "        [[ 9, 10]]])"
            ]
          },
          "metadata": {},
          "execution_count": 9
        }
      ]
    },
    {
      "cell_type": "markdown",
      "source": [
        "### Operation with Tensors\n",
        "\n",
        "Matrix Multiplication and algebric operation"
      ],
      "metadata": {
        "id": "7BE72hUHaoGR"
      }
    },
    {
      "cell_type": "code",
      "source": [
        "z1 = torch.tensor([[0,1], [2,3], [4,5], [6,7], [8, 9]])\n",
        "z2 = torch.tensor([[0, 1, 2], [2, 3, 4]])\n",
        "\n",
        "# first way\n",
        "print(z1 @ z2, \"Matrix multiplication: with '@'\")\n",
        "\n",
        "# second way\n",
        "print(torch.matmul(z1, z2), \"Matrix multiplication: with torch.matmul\")\n",
        "\n",
        "# third way\n",
        "print(z1.matmul(z2), \"Matrix multiplication: with Tensor.matmul\")"
      ],
      "metadata": {
        "colab": {
          "base_uri": "https://localhost:8080/"
        },
        "id": "vXh3EBcAaIrv",
        "outputId": "b0361c5b-95ab-45f9-9ce0-96cf034e0a70"
      },
      "execution_count": null,
      "outputs": [
        {
          "output_type": "stream",
          "name": "stdout",
          "text": [
            "tensor([[ 2,  3,  4],\n",
            "        [ 6, 11, 16],\n",
            "        [10, 19, 28],\n",
            "        [14, 27, 40],\n",
            "        [18, 35, 52]]) Matrix multiplication: with '@'\n",
            "tensor([[ 2,  3,  4],\n",
            "        [ 6, 11, 16],\n",
            "        [10, 19, 28],\n",
            "        [14, 27, 40],\n",
            "        [18, 35, 52]]) Matrix multiplication: with torch.matmul\n",
            "tensor([[ 2,  3,  4],\n",
            "        [ 6, 11, 16],\n",
            "        [10, 19, 28],\n",
            "        [14, 27, 40],\n",
            "        [18, 35, 52]]) Matrix multiplication: with Tensor.matmul\n"
          ]
        }
      ]
    },
    {
      "cell_type": "code",
      "source": [
        "#Don't mistake `@` and `*` as the latter is the Hadamard (element-by-element) product!\n",
        "\n",
        "z1*z1\n",
        "#z1 * z2 # this gives an Exception"
      ],
      "metadata": {
        "colab": {
          "base_uri": "https://localhost:8080/"
        },
        "id": "Wi3tKkOibcWV",
        "outputId": "c5b55869-5cfb-402a-ebb3-6ef27716028b"
      },
      "execution_count": null,
      "outputs": [
        {
          "output_type": "execute_result",
          "data": {
            "text/plain": [
              "tensor([[ 0,  1],\n",
              "        [ 4,  9],\n",
              "        [16, 25],\n",
              "        [36, 49],\n",
              "        [64, 81]])"
            ]
          },
          "metadata": {},
          "execution_count": 13
        }
      ]
    },
    {
      "cell_type": "code",
      "source": [
        "z3 = torch.Tensor([[2,4,6,8,7],[1,3,5,7,9]])\n",
        "z4 = torch.Tensor([[2,2,2,2,2],[1,1,1,1,1]])\n",
        "\n",
        "print(z3 % z4, \"z1 % z3 (remainder of integer division)\")\n",
        "print(z3 // z4, \"z3 // z1 (integer division)\") "
      ],
      "metadata": {
        "colab": {
          "base_uri": "https://localhost:8080/"
        },
        "id": "PeEh3eZabi_u",
        "outputId": "e7f16c03-41df-4b5c-ce3b-da11e90b922a"
      },
      "execution_count": null,
      "outputs": [
        {
          "output_type": "stream",
          "name": "stdout",
          "text": [
            "tensor([[0., 0., 0., 0., 1.],\n",
            "        [0., 0., 0., 0., 0.]]) z1 % z3 (remainder of integer division)\n",
            "tensor([[1., 2., 3., 4., 3.],\n",
            "        [1., 3., 5., 7., 9.]]) z3 // z1 (integer division)\n"
          ]
        }
      ]
    },
    {
      "cell_type": "markdown",
      "source": [
        "One important aspect to keep in mind is that a tensor has several dimensions, so we need to specify along what specific axis we want to perform our operation."
      ],
      "metadata": {
        "id": "9r2JqAxAb_Ju"
      }
    },
    {
      "cell_type": "code",
      "source": [
        "t4 = torch.tensor([[0,1], [2,3]])\n",
        "\n",
        "print('Sum along axis 0: ', torch.sum(t4, axis=0))\n",
        "print('Sum along axis 1: ', torch.sum(t4, axis=1))\n",
        "# axis -1 is the inner one\n",
        "print('Sum along axis -1: ', torch.sum(t4, axis=-1))"
      ],
      "metadata": {
        "colab": {
          "base_uri": "https://localhost:8080/"
        },
        "id": "4M3B73Lfbj3-",
        "outputId": "5b71194d-3956-4233-e2ac-4a4261eea82c"
      },
      "execution_count": null,
      "outputs": [
        {
          "output_type": "stream",
          "name": "stdout",
          "text": [
            "Sum along axis 0:  tensor([2, 4])\n",
            "Sum along axis 1:  tensor([1, 5])\n",
            "Sum along axis -1:  tensor([1, 5])\n"
          ]
        }
      ]
    },
    {
      "cell_type": "code",
      "source": [
        "#Normalization\n",
        "z3 = torch.Tensor([[2,4,6,8,10],[1,3,5,7,9]])\n",
        "\n",
        "z3_norm = z3.norm() # equivalent z3.norm(dim=1)\n",
        "# np.sqrt(2**2+4**2+6**2+8**2+10**2 + 1**2+3**2+5**2+7**2+9**2)\n",
        "z3_norm "
      ],
      "metadata": {
        "colab": {
          "base_uri": "https://localhost:8080/"
        },
        "id": "b-k6OP8Jcfeg",
        "outputId": "29f0c0ff-3d53-472a-e1b9-acfec7d55627"
      },
      "execution_count": null,
      "outputs": [
        {
          "output_type": "execute_result",
          "data": {
            "text/plain": [
              "tensor(19.6214)"
            ]
          },
          "metadata": {},
          "execution_count": 16
        }
      ]
    },
    {
      "cell_type": "code",
      "source": [
        "z3_norm = z3.norm(dim=0)\n",
        "z3_norm"
      ],
      "metadata": {
        "colab": {
          "base_uri": "https://localhost:8080/"
        },
        "id": "L4VRYvircrE-",
        "outputId": "001dc6ce-bd80-4398-aa33-b92590d081fe"
      },
      "execution_count": null,
      "outputs": [
        {
          "output_type": "execute_result",
          "data": {
            "text/plain": [
              "tensor([ 2.2361,  5.0000,  7.8102, 10.6301, 13.4536])"
            ]
          },
          "metadata": {},
          "execution_count": 17
        }
      ]
    },
    {
      "cell_type": "markdown",
      "source": [
        "To \"disentangle\" the scalar from a Tensor use the .item() method."
      ],
      "metadata": {
        "id": "Z0E1UcB3c3xR"
      }
    },
    {
      "cell_type": "code",
      "source": [
        "z3_norm[0].item()"
      ],
      "metadata": {
        "colab": {
          "base_uri": "https://localhost:8080/"
        },
        "id": "VFgcCaHSdC3c",
        "outputId": "1291819c-1a7c-41b0-d193-e7e0e13da67d"
      },
      "execution_count": null,
      "outputs": [
        {
          "output_type": "execute_result",
          "data": {
            "text/plain": [
              "2.2360680103302"
            ]
          },
          "metadata": {},
          "execution_count": 20
        }
      ]
    },
    {
      "cell_type": "markdown",
      "source": [
        "Transposition"
      ],
      "metadata": {
        "id": "vliBPM3dcBje"
      }
    },
    {
      "cell_type": "code",
      "source": [
        "z1 = torch.rand([4, 5])\n",
        "print(\"z1\")\n",
        "print(\"shape\", z1.shape)\n",
        "print(z1)\n",
        "\n",
        "# transposition\n",
        "z2 = z1.T\n",
        "\n",
        "print(\"\\nz2\")\n",
        "print(\"shape\", z2.shape)\n",
        "print(z2)"
      ],
      "metadata": {
        "colab": {
          "base_uri": "https://localhost:8080/"
        },
        "id": "TGe3GZ6RbmS2",
        "outputId": "e3a52ba9-af83-45f4-8308-a5a76a6f47cd"
      },
      "execution_count": null,
      "outputs": [
        {
          "output_type": "stream",
          "name": "stdout",
          "text": [
            "z1\n",
            "shape torch.Size([4, 5])\n",
            "tensor([[0.7193, 0.6900, 0.6834, 0.6598, 0.5051],\n",
            "        [0.7663, 0.1960, 0.0260, 0.9323, 0.7474],\n",
            "        [0.5106, 0.6668, 0.4287, 0.6666, 0.0378],\n",
            "        [0.9355, 0.1507, 0.3571, 0.9671, 0.9202]])\n",
            "\n",
            "z2\n",
            "shape torch.Size([5, 4])\n",
            "tensor([[0.7193, 0.7663, 0.5106, 0.9355],\n",
            "        [0.6900, 0.1960, 0.6668, 0.1507],\n",
            "        [0.6834, 0.0260, 0.4287, 0.3571],\n",
            "        [0.6598, 0.9323, 0.6666, 0.9671],\n",
            "        [0.5051, 0.7474, 0.0378, 0.9202]])\n"
          ]
        }
      ]
    },
    {
      "cell_type": "markdown",
      "source": [
        "Vector Multiplication"
      ],
      "metadata": {
        "id": "bhgMP7CAcHFh"
      }
    },
    {
      "cell_type": "code",
      "source": [
        "vec1 = torch.rand((5,)) # torch.tensor([1,2,3])\n",
        "vec2 = torch.rand((5,)) # torch.tensor([4,5,6])\n",
        "\n",
        "print(vec1, \"vec1\")\n",
        "print(vec2, \"vec2\")\n",
        "\n",
        "print(vec1 @ vec2, \"I can use '@' even if the two vectors aren't conformable\")\n",
        "\n",
        "print(vec1.unsqueeze(1).shape)\n",
        "print(vec1.unsqueeze(0) @ vec2.unsqueeze(-1))\n",
        "\n",
        "print(torch.matmul(vec1, vec2))\n",
        "\n",
        "print(torch.dot(vec1, vec2))"
      ],
      "metadata": {
        "colab": {
          "base_uri": "https://localhost:8080/"
        },
        "id": "23Ofi0NmbpJU",
        "outputId": "46aedaca-dc89-4c22-d4eb-fbc2e5df02e4"
      },
      "execution_count": null,
      "outputs": [
        {
          "output_type": "stream",
          "name": "stdout",
          "text": [
            "tensor([0.8405, 0.6265, 0.4037, 0.7775, 0.7534]) vec1\n",
            "tensor([0.5441, 0.0624, 0.4961, 0.8666, 0.0769]) vec2\n",
            "tensor(1.4284) I can use '@' even if the two vectors aren't conformable\n",
            "torch.Size([5, 1])\n",
            "tensor([[1.4284]])\n",
            "tensor(1.4284)\n",
            "tensor(1.4284)\n"
          ]
        }
      ]
    },
    {
      "cell_type": "markdown",
      "source": [
        "Conversion PyTorch <-> Numpy"
      ],
      "metadata": {
        "id": "hHnazD15cXKj"
      }
    },
    {
      "cell_type": "code",
      "source": [
        "y_numpy = np.random.rand(3,5)\n",
        "y_torch = torch.from_numpy(y_numpy)\n",
        "print(y_torch, \"y converted to torch.Tensor\")\n",
        "\n",
        "x = torch.rand(6,4)\n",
        "x_numpy = x.numpy()\n",
        "print(x_numpy, \"x converted to numpy.ndarray\")"
      ],
      "metadata": {
        "colab": {
          "base_uri": "https://localhost:8080/"
        },
        "id": "7kKQxg-JcWcd",
        "outputId": "95b6ea32-2073-4040-a63e-c2a0564c478d"
      },
      "execution_count": null,
      "outputs": [
        {
          "output_type": "stream",
          "name": "stdout",
          "text": [
            "tensor([[0.1494, 0.1246, 0.3197, 0.6755, 0.6110],\n",
            "        [0.8797, 0.3087, 0.3216, 0.2548, 0.4557],\n",
            "        [0.6909, 0.7239, 0.1488, 0.6752, 0.1511]], dtype=torch.float64) y converted to torch.Tensor\n",
            "[[0.8957058  0.23139244 0.07630104 0.15985751]\n",
            " [0.63829154 0.24363631 0.07895219 0.27063715]\n",
            " [0.0821569  0.37729287 0.34379584 0.7756635 ]\n",
            " [0.6334905  0.8696552  0.55637306 0.46875453]\n",
            " [0.21254295 0.83155376 0.9187102  0.10769898]\n",
            " [0.66605157 0.6881105  0.38007623 0.73576784]] x converted to numpy.ndarray\n"
          ]
        }
      ]
    },
    {
      "cell_type": "markdown",
      "source": [
        "### Automatic Differentiation\n",
        "\n",
        "One of the advantage of PyTorch over NumPy is its automatic differentiation which is very useful in optimization applications, such as neural network backpropagation. \n",
        "\n",
        "#### Example 1 (simple)\n",
        "\n",
        "Suppose to have a composite function which is a chain of two functions: g(u(x)). To compute the derivative of g with respect to x we can use the chain rule: \n",
        "\n",
        "$$\\frac{dg}{dx} = \\frac{dg}{du} \\cdot \\frac{du}{dx}$$\n",
        "\n",
        "PyTorch can analytically compute the derivatives for us.\n",
        "\n",
        "To compute the derivatives in PyTorch first we create a tensor and set its `requires_grad = true`. We can use tensor operations to define our functions. Let us give the following example"
      ],
      "metadata": {
        "id": "TlyGa4HUdM-U"
      }
    },
    {
      "cell_type": "code",
      "source": [
        "x = torch.tensor(0.5, requires_grad=True)\n",
        "\n",
        "def u(x):\n",
        "  return x * x\n",
        "\n",
        "def g(u):\n",
        "  return -2*u"
      ],
      "metadata": {
        "id": "J5NNsHP2dWI3"
      },
      "execution_count": null,
      "outputs": []
    },
    {
      "cell_type": "markdown",
      "source": [
        "Our composite function is $g(x) = -2 x^2$, whose derivative is $dg/dx = - 4 x$. At the point $x = 0.5$ its value is $-2$. Let us check this result"
      ],
      "metadata": {
        "id": "DsvOHGIxdZAm"
      }
    },
    {
      "cell_type": "code",
      "source": [
        "dg_dx = torch.autograd.grad(g(u(x)), x)[0]\n",
        "print(dg_dx) "
      ],
      "metadata": {
        "colab": {
          "base_uri": "https://localhost:8080/"
        },
        "id": "Dhua7U3HdYis",
        "outputId": "c2f54d8e-5c3e-41b8-8be7-2b6fc5a35e00"
      },
      "execution_count": null,
      "outputs": [
        {
          "output_type": "stream",
          "name": "stdout",
          "text": [
            "tensor(-2.)\n"
          ]
        }
      ]
    },
    {
      "cell_type": "markdown",
      "source": [
        "## Neural Networks (nn.Module)\n",
        "\n",
        "The MLP is a family of Artificial NNs in which the input is a vector of size $ℝ^d$ and the output is again a vector of size $ℝ^p$, where p is determined upon the nature of the problem we wish to solve (for instance it might be the number of classes). Additionally, a MLP is characterized by multiple stages (layers) of sequential vector-matrix multiplication and non-linearity in which each output of the layer $l-1$ acts as input to the layer $l$.\n",
        "\n",
        "\n",
        "In NNs, each of the nodes within the graph is called a **neuron**. They are organized in **layers**. The first layer is called **input layer** and represents the dimensions of our data. The last layer is called output layer and represent the **output** of our NN. The intermediate layers are called **hidden layers**. \n",
        "\n",
        "\n",
        "<center>  <img src=\"https://drive.google.com/uc?export=view&id=12__R5BwhndZ7qSvZx2ntv2pncIfkj-Uo\" width=\"550\" height=\"320\"> </center> \n",
        "\n",
        "If the NN is an MLP, each neuron in a given layer (except for the input) receives information from every neuron of the previous; moreover, each neuron in any layer (except for the output) sends information to every neuron of the next layer. There is no communication between neurons of the same layer (This happens in Recursive NNs such as Recurret NNs).\n",
        "\n",
        "### Activation Functions\n",
        "\n",
        "To solve non-linear problems (99% of real-world problems) we need non-linear activation functions. There are plenty of activation functions in the literature. The choice of the more suited activation function for a network or a specific layer depends on many factors, such as the task itself. In this course, we will not deal with these design settings. For this exercise, we will use some common choice: *logistic sigmoid activation function* and *hyperbolic tangent activation function*. They have similar properties and, for this reason, the latter is often called *scaled sigmoid*. \n",
        "\n",
        "These functions:\n",
        "\n",
        "* are non linear in nature;\n",
        "\n",
        "* they have activations bounded;\n",
        "\n",
        "* between $x$ values $-2$ to $2$, $y$ values are very steep. Which means, any small changes in the values of $x$ in that region will cause values of $y$ to change significantly. Outside this range, $y$ values tend to respond very less to changes in $x$. This can cause an effect named *vanishing of gradients*;\n",
        "\n",
        "* tend to bring the activations to either side of the curve. In particular when used in the last layer, they are suited for binary classifiation problems making clear distinctions on prediction.\n",
        "\n",
        "\n",
        "We will also consider the widely used *ReLu activation* (Rectified Linear Unit). It is also a non-linear function, but it is not bounded. This means it can blow up the activation. Moreover, it is worth highlighting the sparsity of its activation. If we consider a neural network with a lot of neurons, using a *sigmoid* or *tanh* will cause almost all neurons to fire in an analog way. That means almost all activations will be taken into account and processed to describe the output of a network. We say that the activation is dense. This could be costly. Ideally, we would want a few neurons in the network to not activate and thereby making the activations sparse and efficient.\n",
        "\n",
        "\n",
        "Logistic regression is usually used as a binary classification model instead of a regression model. In this setting, we suppose we have two destination classes to which we assign values 0 and 1: $y ∈ {0, 1}$. Since the codomain of the sigmoid is $[0,1]$, we can interpret its output $ŷ$ as a probability value, and assign each data to the class 0 if $ŷ <= 0.5$, to the class 1 otherwise."
      ],
      "metadata": {
        "id": "nF7SeJw8dmOH"
      }
    },
    {
      "cell_type": "code",
      "source": [
        "# Scaled Sigmoid Activation Function\n",
        "def tanh(x):\n",
        "    return np.tanh(x)\n",
        "# Its derivative\n",
        "def d_tanh(x):\n",
        "    return 1 - np.tanh(x) ** 2\n",
        "\n",
        "# Logistic Activation Function, also called Sigmoid\n",
        "# (is this one torch.nn.functional.sigmoid)\n",
        "def logistic(x):\n",
        "    return 1/(1 + np.exp(-1*x))\n",
        "# Its derivative\n",
        "def d_logistic(x):\n",
        "    return logistic(x) * ( 1 - logistic(x) )\n",
        "\n",
        "# ReLu Activation Function\n",
        "def relu(x):\n",
        "  return (np.abs(x) + x)*0.5\n",
        "# Its derivative\n",
        "def d_relu(x):\n",
        "    x= np.array(x)\n",
        "    return np.where(x > 0, 1, 0)"
      ],
      "metadata": {
        "id": "_0AXtsjFdgIM"
      },
      "execution_count": null,
      "outputs": []
    },
    {
      "cell_type": "code",
      "source": [
        "import matplotlib.pyplot as plt\n",
        "\n",
        "plt.figure(figsize=(15,7))\n",
        "\n",
        "# evenly sampled time at 200ms intervals\n",
        "t = np.arange(-3., 3., 0.01)\n",
        "\n",
        "# red dashes, blue squares and green triangles\n",
        "plt.plot(t, tanh(t), 'b--', label='tanh')\n",
        "plt.plot(t, logistic(t), 'r--', label='logistic sigmoid')\n",
        "plt.plot(t, relu(t), 'g--', label='ReLu')\n",
        "\n",
        "\n",
        "plt.title(\"Simple Plot\")\n",
        "\n",
        "plt.axvline(0)\n",
        "plt.axhline(0)\n",
        "\n",
        "plt.legend()\n",
        "plt.show()"
      ],
      "metadata": {
        "colab": {
          "base_uri": "https://localhost:8080/",
          "height": 444
        },
        "id": "7rKfvJU0fSps",
        "outputId": "ec5dbfaa-c091-4573-8b26-7c6f47f95097"
      },
      "execution_count": null,
      "outputs": [
        {
          "output_type": "display_data",
          "data": {
            "text/plain": [
              "<Figure size 1080x504 with 1 Axes>"
            ],
            "image/png": "[encoded data removed]"
          },
          "metadata": {
            "needs_background": "light"
          }
        }
      ]
    },
    {
      "cell_type": "markdown",
      "source": [
        "We define our neural network by subclassing `nn.Module`. This way to define a NN it allows us to better customize our model. Every nn.Module subclass implements the operations on input data in the forward method.\n",
        "\n",
        "\n",
        "We will now be exploring built-in structures and routines supporting the creation of ML models.\n",
        "\n",
        "Usually, a PyTorch model is a class inheriting from `torch.nn.Module`. This way to define a NN it allows us to better customize our model. Inside `torch.nn.Module` class, we'll define two methods:\n",
        "\n",
        "* the constructor `(__init__)` in which we define the building blocks of our model as class variables \n",
        "* the `forward` method, which specifies how the data fed into the model needs to be processed in order to produce the output\n",
        "\n",
        "We don't need to define backward methods since we're constructing our model with built-in PyTorch building blocks. PyTorch automatically creates a backward routine based upon the forward method.\n",
        "\n",
        "Our model will be built by stacking different linear layers and activating them with tanh function. The Linear layer processes its input as $XW + b$ which is exactly the equation of a linear regressor. \n",
        "\n",
        "\n",
        "\n",
        "$$\n",
        "\\begin{pmatrix} \n",
        "w_{00} & w_{01} \\\\\n",
        "w_{10} & w_{11} \n",
        "\\end{pmatrix}\\cdot\n",
        "\\begin{pmatrix} \n",
        "x_1  \\\\\n",
        "x_2 \n",
        "\\end{pmatrix}\n",
        "+\n",
        "\\begin{pmatrix} \n",
        "b_0  \\\\\n",
        "b_1  \n",
        "\\end{pmatrix}\n",
        "$$"
      ],
      "metadata": {
        "id": "dDF6WQ_ImPhS"
      }
    },
    {
      "cell_type": "code",
      "source": [
        "class UniversalApprox(nn.Module):\n",
        "  def __init__(self, num_units, dropout_rate):\n",
        "    super().__init__()\n",
        "\n",
        "    self.num_units = num_units\n",
        "    self.dropout_rate = dropout_rate\n",
        "\n",
        "    # dropout is a function that takes as input activations from the previous layer and\n",
        "    # sets some of them at zero, according to the dropout rate value.\n",
        "\n",
        "    self.dense1 = nn.Linear(1, self.num_units, bias=True)\n",
        "    self.dense2 = nn.Linear(self.num_units, int(self.num_units), bias=True)\n",
        "    self.dense3 = nn.Linear(int(self.num_units), int(self.num_units / 2), bias=True)\n",
        "    self.dense4 = nn.Linear(int(self.num_units/ 2), 1, bias=True)\n",
        "    self.droput = nn.Dropout(p = self.dropout_rate)\n",
        "\n",
        "  def forward(self, x):\n",
        "    result = torch.tanh(self.dense1(x))\n",
        "    result = self.droput(result)\n",
        "    result = torch.tanh(self.dense2(result))\n",
        "    result = self.droput(result)\n",
        "    result = torch.tanh(self.dense3(result))\n",
        "    result = self.droput(result)\n",
        "    result = torch.tanh(self.dense4(result))\n",
        "    return result\n",
        "\n",
        "    #-----------------------------------------------------#\n",
        "    #                   A custom method\n",
        "    #-----------------------------------------------------#\n",
        "    def extract_lin1(self, x):\n",
        "        '''\n",
        "        Extracts the activations of the first hidden layer\n",
        "        '''\n",
        "       \n",
        "        return self.dense1(x)"
      ],
      "metadata": {
        "id": "4Ev--Ld3fU50"
      },
      "execution_count": null,
      "outputs": []
    },
    {
      "cell_type": "code",
      "source": [
        "# We can also create a Custom Layer by subclassing the nn.Module\n",
        "\n",
        "class MyLinearLayer(nn.Module):\n",
        "    \"\"\" Custom Linear layer\"\"\"\n",
        "    # it needs to have at least a constructor and a forward method, just like an MLP\n",
        "    def __init__(self, size_in = 100, size_out = 30):\n",
        "        super(MyLinearLayer, self).__init__()\n",
        "\n",
        "        self.size_in, self.size_out = size_in, size_out\n",
        "\n",
        "        #define layer dimensions\n",
        "        weights = torch.Tensor(size_in, size_out) \n",
        "        self.W = nn.Parameter(weights, requires_grad=True)\n",
        "        #initilize weigths\n",
        "        torch.nn.init.normal_(self.W, mean=0.0, std=1.0)\n",
        "\n",
        "    def forward(self, x):\n",
        "        out = torch.mm(x, self.W)\n",
        "        #out = numpy.mm(x, self.W)\n",
        "        return out "
      ],
      "metadata": {
        "id": "nJVCwTVvnWup"
      },
      "execution_count": null,
      "outputs": []
    },
    {
      "cell_type": "markdown",
      "source": [
        "Let's create an instance of the model and inspect the parameters"
      ],
      "metadata": {
        "id": "u3MI_Qn-sJfk"
      }
    },
    {
      "cell_type": "code",
      "source": [
        "model = UniversalApprox(num_units = 64, dropout_rate = .2)\n",
        "model.to(device)"
      ],
      "metadata": {
        "colab": {
          "base_uri": "https://localhost:8080/"
        },
        "id": "xACuGnxcoZO0",
        "outputId": "69ff1f48-6373-408f-d278-b5f60f71bfce"
      },
      "execution_count": null,
      "outputs": [
        {
          "output_type": "execute_result",
          "data": {
            "text/plain": [
              "UniversalApprox(\n",
              "  (dense1): Linear(in_features=1, out_features=64, bias=True)\n",
              "  (dense2): Linear(in_features=64, out_features=64, bias=True)\n",
              "  (dense3): Linear(in_features=64, out_features=32, bias=True)\n",
              "  (dense4): Linear(in_features=32, out_features=1, bias=True)\n",
              "  (droput): Dropout(p=0.2, inplace=False)\n",
              ")"
            ]
          },
          "metadata": {},
          "execution_count": 32
        }
      ]
    },
    {
      "cell_type": "code",
      "source": [
        "input_size = (1,)\n",
        "summary(model, input_size)"
      ],
      "metadata": {
        "colab": {
          "base_uri": "https://localhost:8080/"
        },
        "id": "4n4dI0gIpb4c",
        "outputId": "2107627f-0238-4c83-f27e-c08788b3db63"
      },
      "execution_count": null,
      "outputs": [
        {
          "output_type": "stream",
          "name": "stdout",
          "text": [
            "----------------------------------------------------------------\n",
            "        Layer (type)               Output Shape         Param #\n",
            "================================================================\n",
            "            Linear-1                   [-1, 64]             128\n",
            "           Dropout-2                   [-1, 64]               0\n",
            "            Linear-3                   [-1, 64]           4,160\n",
            "           Dropout-4                   [-1, 64]               0\n",
            "            Linear-5                   [-1, 32]           2,080\n",
            "           Dropout-6                   [-1, 32]               0\n",
            "            Linear-7                    [-1, 1]              33\n",
            "================================================================\n",
            "Total params: 6,401\n",
            "Trainable params: 6,401\n",
            "Non-trainable params: 0\n",
            "----------------------------------------------------------------\n",
            "Input size (MB): 0.00\n",
            "Forward/backward pass size (MB): 0.00\n",
            "Params size (MB): 0.02\n",
            "Estimated Total Size (MB): 0.03\n",
            "----------------------------------------------------------------\n"
          ]
        }
      ]
    },
    {
      "cell_type": "code",
      "source": [
        "for name, param in model.named_parameters():\n",
        "    print(f\"Layer: {name} | Size: {param.size()} | Values : {param[:2]} \\n\")"
      ],
      "metadata": {
        "colab": {
          "base_uri": "https://localhost:8080/"
        },
        "id": "JnauehP4ozQB",
        "outputId": "7fab40ef-4dbc-408d-a6ee-4e6b9276a3b6"
      },
      "execution_count": null,
      "outputs": [
        {
          "output_type": "stream",
          "name": "stdout",
          "text": [
            "Layer: dense1.weight | Size: torch.Size([64, 1]) | Values : tensor([[-0.1123],\n",
            "        [-0.4164]], grad_fn=<SliceBackward0>) \n",
            "\n",
            "Layer: dense1.bias | Size: torch.Size([64]) | Values : tensor([-0.2935, -0.7511], grad_fn=<SliceBackward0>) \n",
            "\n",
            "Layer: dense2.weight | Size: torch.Size([64, 64]) | Values : tensor([[ 0.1032, -0.0921,  0.0704,  0.0495, -0.0173, -0.0482,  0.1030,  0.1131,\n",
            "          0.0591, -0.0040,  0.0373, -0.1039,  0.0790, -0.0775,  0.0148,  0.0187,\n",
            "          0.0147,  0.1151, -0.0227, -0.0899,  0.0607, -0.1079, -0.0223,  0.0930,\n",
            "          0.0925, -0.0935,  0.0062,  0.1130,  0.0516, -0.0310,  0.1214,  0.0356,\n",
            "          0.0183,  0.0140, -0.0748,  0.0720,  0.0596,  0.0869, -0.0016,  0.0438,\n",
            "          0.0210, -0.1065,  0.0063,  0.0120, -0.0182,  0.0092,  0.1183,  0.0888,\n",
            "         -0.0715, -0.0200, -0.0690, -0.0941, -0.0363, -0.0265,  0.0763,  0.0976,\n",
            "          0.0029, -0.0813, -0.0314,  0.0858,  0.1061, -0.1016,  0.0159, -0.0392],\n",
            "        [-0.0993,  0.0218, -0.0329,  0.0878,  0.0017,  0.0902, -0.0245,  0.0419,\n",
            "         -0.0156,  0.0084, -0.0434,  0.0071,  0.0043,  0.0923,  0.0385, -0.1163,\n",
            "         -0.0009, -0.0657, -0.0103,  0.0101, -0.0104,  0.0895,  0.0639,  0.0645,\n",
            "          0.0044,  0.1248,  0.1136,  0.0710, -0.0522, -0.0955, -0.0246,  0.0777,\n",
            "         -0.1151, -0.0308, -0.1174, -0.0369,  0.1208, -0.0931,  0.0759, -0.0653,\n",
            "         -0.0455, -0.0971,  0.0027, -0.0191, -0.0653, -0.0393,  0.0286,  0.1157,\n",
            "         -0.0111, -0.0225,  0.0460, -0.0742, -0.0038, -0.0205,  0.1119, -0.0765,\n",
            "         -0.0781,  0.0779,  0.0619,  0.0129,  0.1163,  0.1078,  0.0379, -0.1083]],\n",
            "       grad_fn=<SliceBackward0>) \n",
            "\n",
            "Layer: dense2.bias | Size: torch.Size([64]) | Values : tensor([-0.1045, -0.0972], grad_fn=<SliceBackward0>) \n",
            "\n",
            "Layer: dense3.weight | Size: torch.Size([32, 64]) | Values : tensor([[-0.0640, -0.0005, -0.1097, -0.0229,  0.0612,  0.1245, -0.0825,  0.0632,\n",
            "          0.0064,  0.0577,  0.0074,  0.0823,  0.1230,  0.0265, -0.1228, -0.0565,\n",
            "          0.0945,  0.0439, -0.1089, -0.1238,  0.0120,  0.0828,  0.0706,  0.0266,\n",
            "         -0.0621, -0.0583, -0.1007,  0.0333,  0.0563, -0.0627,  0.1024,  0.0983,\n",
            "          0.0018,  0.0827, -0.0956, -0.0219, -0.0152, -0.0361,  0.0060, -0.0797,\n",
            "         -0.1239,  0.0347,  0.0779, -0.0679, -0.0901,  0.0932, -0.1159,  0.1070,\n",
            "          0.0920, -0.1008, -0.0584, -0.1125, -0.0126,  0.0227,  0.0945,  0.0630,\n",
            "         -0.0692, -0.0124,  0.0010,  0.0010, -0.0251, -0.1056,  0.0356, -0.0693],\n",
            "        [-0.0563,  0.0754,  0.0138, -0.0621,  0.0666, -0.0759, -0.0076, -0.0978,\n",
            "         -0.1218,  0.0501,  0.0383, -0.0205,  0.0656, -0.0704, -0.0491,  0.0962,\n",
            "          0.0777, -0.1047, -0.0225,  0.0238, -0.0920, -0.1218,  0.1234, -0.0062,\n",
            "         -0.0898,  0.0220,  0.0745,  0.0159, -0.0155,  0.0974,  0.0222, -0.1073,\n",
            "          0.0962,  0.0022, -0.0103, -0.0918,  0.0552, -0.0926,  0.0932, -0.1197,\n",
            "          0.0446, -0.1000,  0.1165,  0.0087,  0.0663,  0.0260,  0.1108, -0.0152,\n",
            "         -0.1056, -0.0047, -0.0033, -0.0841,  0.0665,  0.0606, -0.1152,  0.0763,\n",
            "         -0.0268,  0.0645,  0.0125, -0.0155,  0.0077,  0.0455, -0.0063, -0.0079]],\n",
            "       grad_fn=<SliceBackward0>) \n",
            "\n",
            "Layer: dense3.bias | Size: torch.Size([32]) | Values : tensor([0.0485, 0.0259], grad_fn=<SliceBackward0>) \n",
            "\n",
            "Layer: dense4.weight | Size: torch.Size([1, 32]) | Values : tensor([[-0.1391, -0.1466, -0.0281,  0.0396, -0.0399, -0.0181,  0.1686, -0.0406,\n",
            "         -0.0992,  0.0297, -0.0828,  0.0455, -0.1395, -0.0855, -0.0246, -0.0208,\n",
            "         -0.0299, -0.1259, -0.1437,  0.0494,  0.0874, -0.0870,  0.0839, -0.1482,\n",
            "          0.1579, -0.1486, -0.0524, -0.1669, -0.0313, -0.1288,  0.1219, -0.1549]],\n",
            "       grad_fn=<SliceBackward0>) \n",
            "\n",
            "Layer: dense4.bias | Size: torch.Size([1]) | Values : tensor([-0.0561], grad_fn=<SliceBackward0>) \n",
            "\n"
          ]
        }
      ]
    },
    {
      "cell_type": "markdown",
      "source": [
        "We can also use the untrained model to produce an output based on the random initialization of the weights. The forward method gets implicitly called by passing the data to our model's instance model:"
      ],
      "metadata": {
        "id": "yxc3_LeCqEfR"
      }
    },
    {
      "cell_type": "code",
      "source": [
        "x = torch.randn(10, 1, device=device)\n",
        "y_pred = model(x)\n",
        "print(f\"Model output: {y_pred}\")"
      ],
      "metadata": {
        "colab": {
          "base_uri": "https://localhost:8080/"
        },
        "id": "ZhZp-ladp8Rg",
        "outputId": "415f6c7e-a9e3-412d-f435-78fe9af1def8"
      },
      "execution_count": null,
      "outputs": [
        {
          "output_type": "stream",
          "name": "stdout",
          "text": [
            "Model output: tensor([[-0.1179],\n",
            "        [-0.2154],\n",
            "        [-0.1919],\n",
            "        [-0.1840],\n",
            "        [-0.0371],\n",
            "        [-0.1396],\n",
            "        [-0.2601],\n",
            "        [-0.2012],\n",
            "        [-0.2072],\n",
            "        [-0.1424]], grad_fn=<TanhBackward0>)\n"
          ]
        }
      ]
    },
    {
      "cell_type": "markdown",
      "source": [
        "### Create Dataset\n",
        "We now create a dataset by using simple mathematical function and we fed it inot a TensorDataset which is then consumed by the DataLoader during training. \n",
        "\n",
        "**DataLoader** combines a dataset and a sampler, and provides an iterable over the given dataset. The idea behind the DataLoader is to load your data using multiprocessing (and pinned memory) to asynchronously push your data batch onto the GPU during training so that you can basically hide the data loading time.\n",
        "\n",
        "**TensorDataset** is a convenient method to wrap already loaded tensors into a Dataset."
      ],
      "metadata": {
        "id": "ZIRJIaqrn3nV"
      }
    },
    {
      "cell_type": "code",
      "source": [
        "num_samples = 256\n",
        "\n",
        "train_inputs = torch.rand(num_samples)\n",
        "noise = torch.randn(num_samples)\n",
        "\n",
        "train_targets = torch.sin(8*train_inputs) + .7*noise\n",
        "\n",
        "#for validation\n",
        "valid_inputs = torch.rand(num_samples)\n",
        "valid_targets = torch.sin(8*valid_inputs) + .7*noise"
      ],
      "metadata": {
        "id": "2roVEKaWn2_s"
      },
      "execution_count": null,
      "outputs": []
    },
    {
      "cell_type": "code",
      "source": [
        "assert train_inputs[0] != valid_inputs[0]\n",
        "assert train_targets[0] != valid_targets[0]"
      ],
      "metadata": {
        "id": "UXzWrVSgoQ9v"
      },
      "execution_count": null,
      "outputs": []
    },
    {
      "cell_type": "code",
      "source": [
        "fig, ax = plt.subplots(figsize=(13,6))\n",
        "\n",
        "ax.scatter(train_inputs, train_targets, c='b', s=5, label='train points')\n",
        "ax.scatter(valid_inputs, valid_targets, c='g', s=2, label='valid points')\n",
        "ax.set_xticks(range(0, 1))\n",
        "plt.xlim(0, 1)\n",
        "ax.set_xlabel('Inputs')\n",
        "ax.set_ylabel('Target Function')\n",
        "#ax.set_title(f'Distribution of sum of two different dices')\n",
        "ax.legend(loc='upper right')\n",
        "plt.show()"
      ],
      "metadata": {
        "colab": {
          "base_uri": "https://localhost:8080/",
          "height": 388
        },
        "id": "3H8qDwckoTCQ",
        "outputId": "ac217e02-e63a-45a7-c32e-0aec4a5bfecd"
      },
      "execution_count": null,
      "outputs": [
        {
          "output_type": "display_data",
          "data": {
            "text/plain": [
              "<Figure size 936x432 with 1 Axes>"
            ],
            "image/png": "[encoded data removed]"
          },
          "metadata": {
            "needs_background": "light"
          }
        }
      ]
    },
    {
      "cell_type": "code",
      "source": [
        "train_dataloader = DataLoader(TensorDataset(train_inputs, train_targets), batch_size= 256, shuffle=True)\n",
        "valid_dataloader = DataLoader(TensorDataset(valid_inputs, valid_targets), batch_size= 256, shuffle=True)"
      ],
      "metadata": {
        "id": "nbghpQCGoUp-"
      },
      "execution_count": null,
      "outputs": []
    },
    {
      "cell_type": "markdown",
      "source": [
        "### Training Step\n",
        "Now we define a training function that we will apply to each model. However, we must before explain an important detail. When our models have dropout or batch-normalization layers, it becomes important to specify if the model is in training or evaluation mode. During the former, these layers must be activated while during the latter they must be turned off. \n",
        "\n",
        "By default all the modules are initialized to train mode (self.training = True), but from now on we will always esplicitely set the training mode with `model.train()`(it is a good practice). When your model has dropout or batchnorm, you must set `model.eval()` before performing evaluation/inference.\n",
        "\n",
        "It is worth noticing that `model.train()` and `model.eval()` do not change any behavior of the gradient calculations, but they only change the forward behaviour setting specific layers like dropout and batchnorm to evaluation mode.\n"
      ],
      "metadata": {
        "id": "7SqDoJpFohKc"
      }
    },
    {
      "cell_type": "markdown",
      "source": [
        "### The Training Loop\n",
        "\n",
        "Setup the training (learning) procedure:\n",
        "\n",
        "0.   **Define the neural network** that has some learnable parameters, called wieghts;\n",
        "2.   **Forward pass:** the input (or a batch of inputs) is processed through the network. The model makes a guess about the output.\n",
        "\n",
        "3.   **Loss function evaluation:** Loss Function is computed on data at step N (how far is the output from being correct?);\n",
        "4.   **Backward pass:** collects the derivatives of the loss function (gradients) with respect to its parameters (weights and bias);\n",
        "5.   **Optimizes parameters** using gradient descent. Update network params: $\\theta_N = \\theta_{N-1} - \\alpha \\frac{d L}{d \\theta}$;\n",
        "\n",
        "You can check out [here](https://www.youtube.com/watch?v=tIeHLnjs5U8) a video on backpropagation!"
      ],
      "metadata": {
        "id": "zk4a9PikqnJU"
      }
    },
    {
      "cell_type": "code",
      "source": [
        "model = UniversalApprox(num_units = 64, dropout_rate = .2)\n",
        "model.to(device)"
      ],
      "metadata": {
        "colab": {
          "base_uri": "https://localhost:8080/"
        },
        "id": "3gN9mw7VPrut",
        "outputId": "74b98847-68d4-4a31-e862-d62d6179cc66"
      },
      "execution_count": null,
      "outputs": [
        {
          "output_type": "execute_result",
          "data": {
            "text/plain": [
              "UniversalApprox(\n",
              "  (dense1): Linear(in_features=1, out_features=64, bias=True)\n",
              "  (dense2): Linear(in_features=64, out_features=64, bias=True)\n",
              "  (dense3): Linear(in_features=64, out_features=32, bias=True)\n",
              "  (dense4): Linear(in_features=32, out_features=1, bias=True)\n",
              "  (droput): Dropout(p=0.2, inplace=False)\n",
              ")"
            ]
          },
          "metadata": {},
          "execution_count": 47
        }
      ]
    },
    {
      "cell_type": "code",
      "source": [
        "def plot_loss(training_loss, validation_loss):\n",
        "  plt.plot(range(len(training_loss)), training_loss, c='b', label='Loss Training')\n",
        "  plt.plot(range(len(validation_loss)), validation_loss, c='r', label='Loss Validation')\n",
        "  plt.ylim(0.4, 0.8)\n",
        "  plt.show()"
      ],
      "metadata": {
        "id": "54T6Gd40qG14"
      },
      "execution_count": null,
      "outputs": []
    },
    {
      "cell_type": "code",
      "source": [
        "# Settings\n",
        "num_epochs = 3000 #8000\n",
        "learning_rate = 0.0001 #0.0001\n",
        "\n",
        "def training_step(net, criterion, optimizer):\n",
        "    # set the model to train mode\n",
        "    running_loss=0\n",
        "    net.train()\n",
        "    for batch_idx, (x, y) in enumerate(train_dataloader): # avoid for loop when batch is equal to input data size\n",
        "      # add one dimension\n",
        "      x = x.view(-1, 1) \n",
        "      y = y.view(-1, 1) \n",
        "\n",
        "      # transfer to device\n",
        "      x, y = x.to(device), y.to(device)\n",
        "\n",
        "      #forward pass \n",
        "      model_pred = net(x)\n",
        "\n",
        "      #loss function evaluation\n",
        "      loss = criterion(model_pred, y)\n",
        "\n",
        "      #initialize optimizer\n",
        "      optimizer.zero_grad()\n",
        "\n",
        "      # Backward pass: compute gradient of the loss with respect to model\n",
        "      # parameters\n",
        "      loss.backward()\n",
        "\n",
        "      # Calling the step function on an Optimizer makes an update to its\n",
        "      # parameters\n",
        "      optimizer.step()\n",
        "\n",
        "      running_loss+=loss.item()\n",
        "\n",
        "    return running_loss/(batch_idx+1)\n",
        "\n",
        "def validation_step(net, criterion, optimizer):\n",
        "\n",
        "    running_loss=0\n",
        "    # set the model to train mode\n",
        "    net.eval()\n",
        "    for batch_idx, (x, y) in enumerate(valid_dataloader): # avoid for loop when batch is equal to input data size\n",
        "      \n",
        "      # add one dimension\n",
        "      x = x.view(-1, 1) \n",
        "      y = y.view(-1, 1) \n",
        "\n",
        "      # transfer to device\n",
        "      x, y = x.to(device), y.to(device)\n",
        "\n",
        "      # While, we are performing inference, we don't compute gradients, and thus, don't need to cache these values. \n",
        "      # Infact, no graph needs to be create during inference as it will lead to useless consumption of memory.\n",
        "\n",
        "      with torch.no_grad():\n",
        "        model_pred = net(x)\n",
        "\n",
        "        loss = criterion(model_pred, y)\n",
        "\n",
        "        running_loss+=loss.item()\n",
        "    return running_loss/(batch_idx+1)\n",
        "\n",
        "\n",
        "model_dict = {'model': model}\n",
        "\n",
        "\n",
        "for model in model_dict.keys():\n",
        "  print('Training {} ...'.format(model))\n",
        "  criterion = nn.MSELoss(reduction = 'mean')\n",
        "  optimizer = torch.optim.Adam(model_dict[model].parameters(), lr=learning_rate)\n",
        "\n",
        "  tr_loss, va_loss = [], []\n",
        "\n",
        "  for epoch in range(num_epochs):\n",
        "    tr_loss_step = training_step(model_dict[model], criterion = criterion, optimizer = optimizer)\n",
        "    if epoch % 50 == 0:\n",
        "      va_loss_step = validation_step(model_dict[model], criterion = criterion, optimizer = optimizer)\n",
        "      va_loss.append(va_loss_step)\n",
        "      tr_loss.append(tr_loss_step)\n",
        "      print(f'\\n epoch {epoch}')\n",
        "      print(f'-- train loss {tr_loss_step:.3}, validation loss {va_loss_step:.3}')\n",
        "\n",
        "\n",
        "  plot_loss(tr_loss, va_loss)\n",
        "  loss_diff = np.array(va_loss)- np.array(tr_loss)\n",
        "  print('Loss Diff', np.mean(loss_diff[-10:]))"
      ],
      "metadata": {
        "colab": {
          "base_uri": "https://localhost:8080/",
          "height": 1000
        },
        "id": "SJj6OdglrCTl",
        "outputId": "6500f413-54f2-4336-fac3-ba15c1f96d8a"
      },
      "execution_count": null,
      "outputs": [
        {
          "output_type": "stream",
          "name": "stdout",
          "text": [
            "Training model ...\n",
            "\n",
            " epoch 0\n",
            "-- train loss 0.96, validation loss 0.943\n",
            "\n",
            " epoch 50\n",
            "-- train loss 0.928, validation loss 0.896\n",
            "\n",
            " epoch 100\n",
            "-- train loss 0.924, validation loss 0.888\n",
            "\n",
            " epoch 150\n",
            "-- train loss 0.916, validation loss 0.884\n",
            "\n",
            " epoch 200\n",
            "-- train loss 0.919, validation loss 0.882\n",
            "\n",
            " epoch 250\n",
            "-- train loss 0.916, validation loss 0.88\n",
            "\n",
            " epoch 300\n",
            "-- train loss 0.905, validation loss 0.879\n",
            "\n",
            " epoch 350\n",
            "-- train loss 0.917, validation loss 0.878\n",
            "\n",
            " epoch 400\n",
            "-- train loss 0.911, validation loss 0.876\n",
            "\n",
            " epoch 450\n",
            "-- train loss 0.892, validation loss 0.874\n",
            "\n",
            " epoch 500\n",
            "-- train loss 0.895, validation loss 0.872\n",
            "\n",
            " epoch 550\n",
            "-- train loss 0.918, validation loss 0.869\n",
            "\n",
            " epoch 600\n",
            "-- train loss 0.91, validation loss 0.866\n",
            "\n",
            " epoch 650\n",
            "-- train loss 0.895, validation loss 0.863\n",
            "\n",
            " epoch 700\n",
            "-- train loss 0.871, validation loss 0.859\n",
            "\n",
            " epoch 750\n",
            "-- train loss 0.881, validation loss 0.854\n",
            "\n",
            " epoch 800\n",
            "-- train loss 0.896, validation loss 0.847\n",
            "\n",
            " epoch 850\n",
            "-- train loss 0.884, validation loss 0.84\n",
            "\n",
            " epoch 900\n",
            "-- train loss 0.868, validation loss 0.831\n",
            "\n",
            " epoch 950\n",
            "-- train loss 0.866, validation loss 0.821\n",
            "\n",
            " epoch 1000\n",
            "-- train loss 0.872, validation loss 0.806\n",
            "\n",
            " epoch 1050\n",
            "-- train loss 0.844, validation loss 0.789\n",
            "\n",
            " epoch 1100\n",
            "-- train loss 0.82, validation loss 0.77\n",
            "\n",
            " epoch 1150\n",
            "-- train loss 0.781, validation loss 0.747\n",
            "\n",
            " epoch 1200\n",
            "-- train loss 0.798, validation loss 0.723\n",
            "\n",
            " epoch 1250\n",
            "-- train loss 0.754, validation loss 0.698\n",
            "\n",
            " epoch 1300\n",
            "-- train loss 0.751, validation loss 0.674\n",
            "\n",
            " epoch 1350\n",
            "-- train loss 0.723, validation loss 0.654\n",
            "\n",
            " epoch 1400\n",
            "-- train loss 0.74, validation loss 0.634\n",
            "\n",
            " epoch 1450\n",
            "-- train loss 0.669, validation loss 0.615\n",
            "\n",
            " epoch 1500\n",
            "-- train loss 0.705, validation loss 0.599\n",
            "\n",
            " epoch 1550\n",
            "-- train loss 0.686, validation loss 0.586\n",
            "\n",
            " epoch 1600\n",
            "-- train loss 0.653, validation loss 0.576\n",
            "\n",
            " epoch 1650\n",
            "-- train loss 0.627, validation loss 0.564\n",
            "\n",
            " epoch 1700\n",
            "-- train loss 0.639, validation loss 0.558\n",
            "\n",
            " epoch 1750\n",
            "-- train loss 0.685, validation loss 0.55\n",
            "\n",
            " epoch 1800\n",
            "-- train loss 0.623, validation loss 0.544\n",
            "\n",
            " epoch 1850\n",
            "-- train loss 0.693, validation loss 0.54\n",
            "\n",
            " epoch 1900\n",
            "-- train loss 0.642, validation loss 0.536\n",
            "\n",
            " epoch 1950\n",
            "-- train loss 0.65, validation loss 0.532\n",
            "\n",
            " epoch 2000\n",
            "-- train loss 0.643, validation loss 0.529\n",
            "\n",
            " epoch 2050\n",
            "-- train loss 0.662, validation loss 0.528\n",
            "\n",
            " epoch 2100\n",
            "-- train loss 0.661, validation loss 0.526\n",
            "\n",
            " epoch 2150\n",
            "-- train loss 0.646, validation loss 0.525\n",
            "\n",
            " epoch 2200\n",
            "-- train loss 0.598, validation loss 0.523\n",
            "\n",
            " epoch 2250\n",
            "-- train loss 0.586, validation loss 0.523\n",
            "\n",
            " epoch 2300\n",
            "-- train loss 0.63, validation loss 0.522\n",
            "\n",
            " epoch 2350\n",
            "-- train loss 0.627, validation loss 0.52\n",
            "\n",
            " epoch 2400\n",
            "-- train loss 0.591, validation loss 0.52\n",
            "\n",
            " epoch 2450\n",
            "-- train loss 0.622, validation loss 0.521\n",
            "\n",
            " epoch 2500\n",
            "-- train loss 0.624, validation loss 0.52\n",
            "\n",
            " epoch 2550\n",
            "-- train loss 0.62, validation loss 0.519\n",
            "\n",
            " epoch 2600\n",
            "-- train loss 0.637, validation loss 0.52\n",
            "\n",
            " epoch 2650\n",
            "-- train loss 0.632, validation loss 0.519\n",
            "\n",
            " epoch 2700\n",
            "-- train loss 0.617, validation loss 0.519\n",
            "\n",
            " epoch 2750\n",
            "-- train loss 0.577, validation loss 0.517\n",
            "\n",
            " epoch 2800\n",
            "-- train loss 0.616, validation loss 0.52\n",
            "\n",
            " epoch 2850\n",
            "-- train loss 0.626, validation loss 0.519\n",
            "\n",
            " epoch 2900\n",
            "-- train loss 0.609, validation loss 0.519\n",
            "\n",
            " epoch 2950\n",
            "-- train loss 0.611, validation loss 0.52\n"
          ]
        },
        {
          "output_type": "display_data",
          "data": {
            "text/plain": [
              "<Figure size 432x288 with 1 Axes>"
            ],
            "image/png": "[encoded data removed]"
          },
          "metadata": {
            "needs_background": "light"
          }
        },
        {
          "output_type": "stream",
          "name": "stdout",
          "text": [
            "Loss Diff -0.09764504432678223\n"
          ]
        }
      ]
    },
    {
      "cell_type": "code",
      "source": [
        "all_preds = []\n",
        "\n",
        "for model in model_dict.keys():\n",
        "  # Disabling gradient calculation is useful for inference, since it will reduce memory \n",
        "  # consumption for computations that would otherwise have requires_grad=True.\n",
        "  with torch.no_grad(): \n",
        "    model_dict[model].eval()\n",
        "    pred = model_dict[model](train_inputs.view(-1,1).to(device)).detach().to('cpu')\n",
        "    all_preds.append(pred)"
      ],
      "metadata": {
        "id": "QAKBnyberQ0a"
      },
      "execution_count": null,
      "outputs": []
    },
    {
      "cell_type": "code",
      "source": [
        "fig, ax = plt.subplots(figsize=(20,10))\n",
        "\n",
        "#pred_over = np.load('./overfitted_model.npy')\n",
        "#pred_corr = np.load('./correct_model.npy')\n",
        "\n",
        "ax.scatter(train_inputs, train_targets, c='b', s=3, label='target points')\n",
        "for i, model in enumerate(model_dict.keys()):\n",
        "  colors = ['r', 'm', 'g', 'k']\n",
        "  ax.scatter(train_inputs, all_preds[i], c=colors[i], label=model)\n",
        "  #ax.scatter(train_inputs, all_preds[1], c='m', s=5, label='model 2')\n",
        "  #ax.scatter(inputs, all_preds[2], c='g', s=5, label='model 3')\n",
        "\n",
        "ax.set_xticks(range(0, 1))\n",
        "plt.xlim(0, 1)\n",
        "ax.set_xlabel('Inputs')\n",
        "ax.set_ylabel('Function')\n",
        "ax.set_title(f'Model Predictions (After Training)')\n",
        "ax.legend(loc='upper right')\n",
        "plt.show()"
      ],
      "metadata": {
        "colab": {
          "base_uri": "https://localhost:8080/",
          "height": 621
        },
        "id": "CKOHCXYqraO0",
        "outputId": "e73f9e9e-1b90-40d3-ccf6-b3e5934da7fc"
      },
      "execution_count": null,
      "outputs": [
        {
          "output_type": "display_data",
          "data": {
            "text/plain": [
              "<Figure size 1440x720 with 1 Axes>"
            ],
            "image/png": "[encoded data removed]"
          },
          "metadata": {
            "needs_background": "light"
          }
        }
      ]
    },
    {
      "cell_type": "markdown",
      "source": [
        "### Saving and Loading Parameters\n",
        "\n",
        "We can now save model parameter to reload the model for prediction or also to try retrain the network starting from a given initialization"
      ],
      "metadata": {
        "id": "x8cv2Ha1uPED"
      }
    },
    {
      "cell_type": "code",
      "source": [
        "import os\n",
        "folder_save = \"models/mlp_init\"\n",
        "os.makedirs(folder_save, exist_ok=True)\n",
        "filename = os.path.join(folder_save, \"model.pt\")\n",
        "torch.save(model_dict['model'].state_dict(), filename)"
      ],
      "metadata": {
        "id": "J-qyDcG5unfh"
      },
      "execution_count": null,
      "outputs": []
    },
    {
      "cell_type": "markdown",
      "source": [
        "We can now initialize a new instance of the class UniversaApprox(). check the params and load the previously trained parameters"
      ],
      "metadata": {
        "id": "HG1e2Gx_vCIR"
      }
    },
    {
      "cell_type": "code",
      "source": [
        "model = UniversalApprox(num_units = 64, dropout_rate = .2)\n",
        "\n",
        "for params in model.parameters():\n",
        "  print(params)\n"
      ],
      "metadata": {
        "colab": {
          "base_uri": "https://localhost:8080/"
        },
        "id": "GQY7Tfaju_xz",
        "outputId": "8d81d9a1-7517-4243-9e22-ae719e3389d5"
      },
      "execution_count": null,
      "outputs": [
        {
          "output_type": "stream",
          "name": "stdout",
          "text": [
            "Parameter containing:\n",
            "tensor([[-0.3081],\n",
            "        [ 0.6557],\n",
            "        [-0.8875],\n",
            "        [-0.5079],\n",
            "        [ 0.5524],\n",
            "        [-0.6281],\n",
            "        [-0.0298],\n",
            "        [ 0.4836],\n",
            "        [ 0.2976],\n",
            "        [ 0.2665],\n",
            "        [ 0.8832],\n",
            "        [ 0.5715],\n",
            "        [-0.9274],\n",
            "        [ 0.7566],\n",
            "        [-0.9225],\n",
            "        [ 0.7521],\n",
            "        [-0.3207],\n",
            "        [-0.6640],\n",
            "        [ 0.0126],\n",
            "        [-0.2778],\n",
            "        [-0.5430],\n",
            "        [ 0.7430],\n",
            "        [-0.9400],\n",
            "        [-0.0470],\n",
            "        [-0.7068],\n",
            "        [-0.8540],\n",
            "        [-0.5328],\n",
            "        [-0.7352],\n",
            "        [-0.7422],\n",
            "        [-0.3468],\n",
            "        [-0.6359],\n",
            "        [-0.5490],\n",
            "        [ 0.9388],\n",
            "        [ 0.4806],\n",
            "        [ 0.4520],\n",
            "        [-0.8474],\n",
            "        [-0.7923],\n",
            "        [-0.4025],\n",
            "        [-0.8117],\n",
            "        [-0.1954],\n",
            "        [-0.7173],\n",
            "        [ 0.3971],\n",
            "        [-0.8141],\n",
            "        [-0.9292],\n",
            "        [ 0.3402],\n",
            "        [ 0.1910],\n",
            "        [-0.4035],\n",
            "        [-0.2818],\n",
            "        [-0.0472],\n",
            "        [-0.9142],\n",
            "        [-0.5341],\n",
            "        [-0.7629],\n",
            "        [-0.8830],\n",
            "        [ 0.0886],\n",
            "        [-0.2945],\n",
            "        [-0.7670],\n",
            "        [-0.6009],\n",
            "        [ 0.8054],\n",
            "        [-0.1271],\n",
            "        [ 0.6526],\n",
            "        [ 0.2287],\n",
            "        [-0.4574],\n",
            "        [-0.2739],\n",
            "        [-0.8024]], requires_grad=True)\n",
            "Parameter containing:\n",
            "tensor([ 0.4895,  0.6210, -0.1929, -0.2708,  0.3268,  0.9626,  0.3075, -0.8689,\n",
            "         0.8696,  0.9979,  0.9455, -0.7396,  0.3197, -0.3786,  0.3689, -0.8658,\n",
            "        -0.7658, -0.0916,  0.6244,  0.5984,  0.1162, -0.3531,  0.7149,  0.1610,\n",
            "        -0.8737, -0.7059,  0.6249,  0.8876, -0.4663, -0.2585,  0.1413, -0.2840,\n",
            "        -0.7533, -0.3640,  0.5247,  0.8861, -0.2176,  0.0192, -0.3653, -0.6215,\n",
            "         0.8145,  0.7581, -0.9647,  0.8973,  0.0835,  0.4095, -0.6130, -0.1993,\n",
            "         0.2191, -0.5140,  0.3449, -0.3621,  0.4550, -0.9433, -0.7653,  0.1474,\n",
            "        -0.2989, -0.1995, -0.1911,  0.8103, -0.8773,  0.0605, -0.0526, -0.6953],\n",
            "       requires_grad=True)\n",
            "Parameter containing:\n",
            "tensor([[ 0.0890, -0.0502,  0.0677,  ...,  0.0666,  0.0056, -0.0355],\n",
            "        [-0.0717, -0.0893, -0.0042,  ...,  0.1000, -0.0141,  0.1051],\n",
            "        [ 0.0738, -0.0492, -0.0960,  ...,  0.0405, -0.0185,  0.0407],\n",
            "        ...,\n",
            "        [-0.1093,  0.1021,  0.0915,  ..., -0.0316,  0.0658,  0.0500],\n",
            "        [ 0.0119, -0.0732,  0.0441,  ..., -0.0600,  0.1246, -0.0700],\n",
            "        [-0.0628,  0.1068,  0.0941,  ...,  0.0064,  0.0307,  0.0177]],\n",
            "       requires_grad=True)\n",
            "Parameter containing:\n",
            "tensor([ 0.0888, -0.0199,  0.0605,  0.0528,  0.0197, -0.0227, -0.0977, -0.1112,\n",
            "        -0.1052,  0.0074,  0.0477,  0.0600,  0.0830,  0.0038,  0.0132,  0.0342,\n",
            "         0.0876,  0.0116,  0.0477,  0.1118, -0.0044, -0.0031,  0.0080, -0.1095,\n",
            "        -0.1170,  0.0389,  0.0992, -0.0428, -0.0765,  0.1101,  0.0930, -0.0375,\n",
            "        -0.0121,  0.0961,  0.0962, -0.0995,  0.0869,  0.1050,  0.1137, -0.0237,\n",
            "        -0.0660, -0.0715,  0.1019,  0.1041, -0.0290, -0.0605, -0.0863, -0.0665,\n",
            "        -0.1064,  0.0840,  0.1098,  0.0859,  0.0594, -0.0852, -0.1229, -0.0961,\n",
            "         0.0248, -0.1158,  0.0350, -0.0685,  0.1241, -0.0410, -0.0391,  0.0021],\n",
            "       requires_grad=True)\n",
            "Parameter containing:\n",
            "tensor([[-0.1183,  0.0126,  0.1062,  ...,  0.0699,  0.0436, -0.1031],\n",
            "        [-0.1248,  0.0340,  0.0622,  ..., -0.0112,  0.0812,  0.0401],\n",
            "        [-0.0257,  0.0194,  0.0557,  ..., -0.1108, -0.0935,  0.1073],\n",
            "        ...,\n",
            "        [ 0.0423,  0.0250,  0.0407,  ...,  0.1225, -0.0162,  0.1169],\n",
            "        [-0.1050, -0.0913, -0.0922,  ...,  0.1245, -0.0561,  0.0364],\n",
            "        [ 0.1052, -0.0815, -0.1136,  ...,  0.1183, -0.0737, -0.1244]],\n",
            "       requires_grad=True)\n",
            "Parameter containing:\n",
            "tensor([-0.0130, -0.1137, -0.0841, -0.0938, -0.0946,  0.0630, -0.0375, -0.0699,\n",
            "         0.0530,  0.0321,  0.0873,  0.0977,  0.0758,  0.1003, -0.0098,  0.0777,\n",
            "         0.0385,  0.0601,  0.0729, -0.0779,  0.0953,  0.0273,  0.0629, -0.0229,\n",
            "        -0.0613, -0.0112, -0.0624,  0.0626, -0.0216, -0.1065,  0.0607, -0.0012],\n",
            "       requires_grad=True)\n",
            "Parameter containing:\n",
            "tensor([[ 0.0858, -0.1706, -0.1195,  0.1527,  0.1663,  0.1411, -0.1516,  0.0190,\n",
            "         -0.0137, -0.0037,  0.0029, -0.1469, -0.0987, -0.1522, -0.1699,  0.0608,\n",
            "          0.1227, -0.0694,  0.0692,  0.0363, -0.1246,  0.0492, -0.0879,  0.0301,\n",
            "         -0.0229,  0.0861, -0.0874, -0.1472,  0.1551, -0.0664, -0.0461, -0.1693]],\n",
            "       requires_grad=True)\n",
            "Parameter containing:\n",
            "tensor([-0.1223], requires_grad=True)\n"
          ]
        }
      ]
    },
    {
      "cell_type": "code",
      "source": [
        "#load the previously trained parameter and check the differences\n",
        "model.load_state_dict(torch.load(filename))\n",
        "\n",
        "for params in model.parameters():\n",
        "  print(params)"
      ],
      "metadata": {
        "colab": {
          "base_uri": "https://localhost:8080/"
        },
        "id": "S4pTJP7SvczA",
        "outputId": "4f0c4b36-59d6-4d9d-ed61-8b95a9adf45d"
      },
      "execution_count": null,
      "outputs": [
        {
          "output_type": "stream",
          "name": "stdout",
          "text": [
            "Parameter containing:\n",
            "tensor([[ 0.0561],\n",
            "        [-1.0856],\n",
            "        [-0.6020],\n",
            "        [-0.4193],\n",
            "        [-0.1247],\n",
            "        [-0.9925],\n",
            "        [ 0.4320],\n",
            "        [ 0.7295],\n",
            "        [-0.1960],\n",
            "        [-0.8094],\n",
            "        [-1.0183],\n",
            "        [-0.2391],\n",
            "        [-1.0752],\n",
            "        [ 0.7340],\n",
            "        [-0.6300],\n",
            "        [-1.0852],\n",
            "        [ 0.8714],\n",
            "        [ 1.0085],\n",
            "        [ 0.1655],\n",
            "        [-0.3964],\n",
            "        [-0.5916],\n",
            "        [-0.0886],\n",
            "        [-0.7430],\n",
            "        [ 0.1766],\n",
            "        [-0.2120],\n",
            "        [ 0.3701],\n",
            "        [ 0.0809],\n",
            "        [-1.0299],\n",
            "        [-0.3047],\n",
            "        [ 0.9986],\n",
            "        [-0.8618],\n",
            "        [-0.2024],\n",
            "        [-0.2377],\n",
            "        [-0.2330],\n",
            "        [-0.7136],\n",
            "        [ 0.3924],\n",
            "        [-0.8920],\n",
            "        [ 0.3849],\n",
            "        [ 0.7585],\n",
            "        [-0.5092],\n",
            "        [ 0.3021],\n",
            "        [ 0.8978],\n",
            "        [ 0.3039],\n",
            "        [ 0.9561],\n",
            "        [ 0.8579],\n",
            "        [ 1.0860],\n",
            "        [ 0.5772],\n",
            "        [-0.0151],\n",
            "        [-0.6103],\n",
            "        [ 0.4995],\n",
            "        [ 0.3766],\n",
            "        [-1.1032],\n",
            "        [-0.9431],\n",
            "        [ 0.2746],\n",
            "        [ 0.0923],\n",
            "        [-0.6626],\n",
            "        [-1.1563],\n",
            "        [-0.7085],\n",
            "        [-0.4412],\n",
            "        [-0.6614],\n",
            "        [ 0.3158],\n",
            "        [ 0.6591],\n",
            "        [ 0.5292],\n",
            "        [ 0.0430]], requires_grad=True)\n",
            "Parameter containing:\n",
            "tensor([-0.1517,  0.7901, -0.2747,  0.1597, -0.9007, -0.1239, -0.1191, -0.3724,\n",
            "         0.1217,  0.3335,  0.0206, -0.5961,  0.4300, -0.3070, -0.1616,  0.4126,\n",
            "        -0.0185,  0.1468, -0.0274, -0.1885,  0.2203,  0.6890,  0.1201,  0.2492,\n",
            "         0.5410,  0.6003, -0.7619, -0.1072, -0.7365, -0.3233, -0.4376,  0.1864,\n",
            "        -0.2711,  0.9202,  0.4948, -0.2148, -0.4152,  0.3846,  0.2666,  0.5722,\n",
            "        -0.6178, -0.8795, -0.7841, -0.2190, -0.6756, -0.8486, -0.8672, -0.8935,\n",
            "         0.3662, -0.6999,  0.3737,  0.0578, -0.1932,  0.2994, -0.4421,  0.5469,\n",
            "         0.4113, -0.1676, -0.2925,  0.2994, -0.5504,  0.7794, -0.3364,  0.1569],\n",
            "       requires_grad=True)\n",
            "Parameter containing:\n",
            "tensor([[ 0.0875,  0.0271, -0.0834,  ...,  0.0740, -0.0736,  0.0213],\n",
            "        [-0.0890,  0.0585,  0.0744,  ..., -0.0241, -0.1192, -0.0552],\n",
            "        [ 0.0261, -0.0451, -0.1177,  ...,  0.0771,  0.1576,  0.0777],\n",
            "        ...,\n",
            "        [-0.0040, -0.1272,  0.0662,  ..., -0.0184,  0.1961,  0.0840],\n",
            "        [ 0.0099, -0.2060,  0.0893,  ...,  0.0640,  0.1324,  0.1312],\n",
            "        [ 0.0612,  0.0530, -0.0719,  ...,  0.0528,  0.0879, -0.0940]],\n",
            "       requires_grad=True)\n",
            "Parameter containing:\n",
            "tensor([ 0.0507, -0.0823, -0.0358,  0.0564, -0.0312, -0.1052,  0.0041, -0.0718,\n",
            "         0.0571,  0.0231,  0.1368, -0.0967, -0.0176, -0.1143, -0.1283, -0.0822,\n",
            "        -0.1470, -0.0230, -0.0858, -0.0776, -0.0396,  0.0791, -0.0438, -0.0398,\n",
            "         0.0497,  0.0903, -0.0273, -0.0736, -0.0635,  0.0736,  0.1400, -0.0961,\n",
            "         0.1404,  0.0325, -0.0931, -0.1400,  0.1206, -0.0367, -0.0390,  0.0153,\n",
            "        -0.1813, -0.1364, -0.0744, -0.1084, -0.0597, -0.1410, -0.0678, -0.0052,\n",
            "        -0.1463,  0.0675, -0.0234,  0.0359, -0.0828,  0.0554,  0.0764, -0.0626,\n",
            "         0.0092,  0.0059,  0.1067,  0.0060, -0.0771, -0.0753, -0.0560,  0.0022],\n",
            "       requires_grad=True)\n",
            "Parameter containing:\n",
            "tensor([[ 0.0767,  0.1138,  0.0441,  ...,  0.0011, -0.0546, -0.0955],\n",
            "        [-0.2207, -0.0028,  0.1338,  ...,  0.2608,  0.2571,  0.2228],\n",
            "        [-0.0651, -0.0853,  0.0858,  ..., -0.0439,  0.0745,  0.1326],\n",
            "        ...,\n",
            "        [-0.0565, -0.0719,  0.0840,  ...,  0.0445,  0.1153, -0.0022],\n",
            "        [ 0.1067, -0.0844,  0.0501,  ..., -0.0749,  0.0571, -0.0371],\n",
            "        [ 0.0864, -0.0769, -0.0248,  ...,  0.0787, -0.0335, -0.0199]],\n",
            "       requires_grad=True)\n",
            "Parameter containing:\n",
            "tensor([-0.1008,  0.1383,  0.0342,  0.1805, -0.0620, -0.0843,  0.0856,  0.0580,\n",
            "         0.0090, -0.0428, -0.0479,  0.0760,  0.1570,  0.0944, -0.0539, -0.0790,\n",
            "         0.0612,  0.0924, -0.1146, -0.0410,  0.1391, -0.1765, -0.1516,  0.1279,\n",
            "         0.0328,  0.1305, -0.0610, -0.1160, -0.1794,  0.0514, -0.1665, -0.0823],\n",
            "       requires_grad=True)\n",
            "Parameter containing:\n",
            "tensor([[-0.1732, -0.1635,  0.0974,  0.1123, -0.1421, -0.1434,  0.1929,  0.2008,\n",
            "          0.1712, -0.0806,  0.0181,  0.1933,  0.1241,  0.0283, -0.1082, -0.2349,\n",
            "         -0.1334, -0.1653, -0.1686, -0.2251,  0.2151, -0.1416,  0.1804, -0.0895,\n",
            "         -0.1689,  0.1410, -0.1426, -0.1663, -0.0789, -0.1608, -0.0547, -0.1304]],\n",
            "       requires_grad=True)\n",
            "Parameter containing:\n",
            "tensor([0.2791], requires_grad=True)\n"
          ]
        }
      ]
    },
    {
      "cell_type": "markdown",
      "source": [
        "### EXERCISE\n",
        "\n",
        "When training neural networks, our models are prone to some drowbacks such as overfitting and underfitting.\n",
        "\n",
        "**Underfit Model**. A model that fails to sufficiently learn the problem and performs poorly on a training dataset and does not perform well on hold-out samples.\n",
        "\n",
        "**Overfit Model**. A model that learns the training dataset too well, performing well on the training dataset but does not perform well on hold-out samples.\n",
        "\n",
        "Both cases result in a model that does not generalize well. A model with too little capacity cannot learn the problem, whereas a model with too much capacity can learn it too well and overfit the training dataset. While underfitting can easily be addressed by increasing the capacity of the network, overfitting requires the use of specialized techniques. We can recognize overfitting when the model achieves very low error on training data but have a much higher error on the testing data.\n",
        "\n",
        "The objective of a neural network is to have a final model that performs well both on the data that we used to train it and the new data on which the model will be used to make predictions. When this is achieved we say that the model learned to generalize well.\n",
        "\n",
        "\n",
        "\n",
        "Build 2 more configurations of the previous model and train them on the previously created dataset. The 2 configurations should have hyperparameters set in order to produce an underfit model and an overfit model."
      ],
      "metadata": {
        "id": "Gh_oAryWtY1O"
      }
    },
    {
      "cell_type": "code",
      "source": [],
      "metadata": {
        "id": "NpmBiaA3rjEU"
      },
      "execution_count": null,
      "outputs": []
    }
  ]
}